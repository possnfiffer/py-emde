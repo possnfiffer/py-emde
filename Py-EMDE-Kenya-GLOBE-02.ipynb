{
 "cells": [
  {
   "cell_type": "markdown",
   "metadata": {},
   "source": [
    "# Py-EMDE\n",
    "### Python Email Data Entry\n",
    "\n",
    "The following code can gather data from weather stations reporting to the [CHORDS](http://ncar.github.io/chords/) portal, package it up into the proper format for [GLOBE Email Data Entry](https://www.globe.gov/globe-data/data-entry/) , and send it using the [SparkPost](https://www.sparkpost.com/) API.\n",
    "\n",
    "*In order to send email, you'll need to setup SparkPost by creating an account and confirming you own the domain you'll be sending emails from. You'll also need to create a SparkPost API key and set the environment variable SPARKPOST_API_KEY equal to the value of your API key. This script can be further modified to use a different method for sending email if needed.*"
   ]
  },
  {
   "cell_type": "markdown",
   "metadata": {},
   "source": [
    "This code will contact the CHORDS Portal and collect all the measurement data from the specified instrument, in the specified date range."
   ]
  },
  {
   "cell_type": "code",
   "execution_count": 34,
   "metadata": {
    "collapsed": true
   },
   "outputs": [],
   "source": [
    "import requests\n",
    "import json\n",
    "\n",
    "\n",
    "r = requests.get('http://3d-kenya.chordsrt.com/instruments/2.geojson?start=2017-03-01T00:00&end=2017-05-01T00:00')\n",
    "if r.status_code == 200:\n",
    "    d = r.json()['Data']\n",
    "else:\n",
    "    print(\"Please verify that the URL for the weather station is correct. You may just have to try again with a different/smaller date range or different dates.\")"
   ]
  },
  {
   "cell_type": "markdown",
   "metadata": {},
   "source": [
    "Now the collected data can be viewed simply by issuing the following command"
   ]
  },
  {
   "cell_type": "code",
   "execution_count": 25,
   "metadata": {},
   "outputs": [
    {
     "data": {
      "text/plain": [
       "[]"
      ]
     },
     "execution_count": 25,
     "metadata": {},
     "output_type": "execute_result"
    }
   ],
   "source": [
    "d"
   ]
  },
  {
   "cell_type": "markdown",
   "metadata": {},
   "source": [
    "This code is useful for looking at a specific measurement dataset"
   ]
  },
  {
   "cell_type": "code",
   "execution_count": null,
   "metadata": {
    "collapsed": true
   },
   "outputs": [],
   "source": [
    "for o in d:\n",
    "    if o['variable_shortname'] == 'msl1':\n",
    "        print(o['time'], o['value'], o['units'])"
   ]
  },
  {
   "cell_type": "markdown",
   "metadata": {},
   "source": [
    "A modified version of the above code will format the data properly for GLOBE Email Data Entry"
   ]
  },
  {
   "cell_type": "code",
   "execution_count": 30,
   "metadata": {
    "collapsed": true
   },
   "outputs": [],
   "source": [
    "davad_tuple = (\n",
    "    'f1',\n",
    "    'f2',\n",
    "    'f3',\n",
    "    'f4',\n",
    "    'f5',\n",
    "    'f6',\n",
    "    'f7',\n",
    "    'f8',\n",
    "    'f9',\n",
    "    'f10',\n",
    "    'f11',\n",
    "    'f12',\n",
    "    'f13',\n",
    "    'f14',\n",
    ")\n",
    "\n",
    "def make_data_set(d):\n",
    "    data_list = []\n",
    "    for o in d:\n",
    "        if o['variable_shortname'] == 'msl1':\n",
    "            t = o['time'].split(\"T\")\n",
    "            tdate = t[0].replace('-', '')\n",
    "            ttime = ''.join(t[1].split(':')[:-1])\n",
    "            pressure = o['value']\n",
    "            if ttime.endswith('00') or ttime.endswith('15') or ttime.endswith('30') or ttime.endswith('45'):\n",
    "                davad_tuple = ['DAVAD', 'GLID4TT4', 'SITE_ID:45013']+['X']*11\n",
    "                davad_tuple[3] = tdate + ttime\n",
    "                davad_tuple[13] = str(pressure)\n",
    "                data_list.append('{}'.format(' '.join(davad_tuple)))\n",
    "    #print('//AA\\n{}\\n//ZZ'.format('\\n'.join(data_list)))\n",
    "    return data_list"
   ]
  },
  {
   "cell_type": "markdown",
   "metadata": {},
   "source": [
    "To see the data formatted in GLOBE Email Data Entry format, comment out the return data_list command above, uncomment the print command right above it, then issue the following command"
   ]
  },
  {
   "cell_type": "code",
   "execution_count": null,
   "metadata": {},
   "outputs": [],
   "source": [
    "make_data_set(d)"
   ]
  },
  {
   "cell_type": "markdown",
   "metadata": {},
   "source": [
    "To email the data set to GLOBE's email data entry server, run the following code."
   ]
  },
  {
   "cell_type": "code",
   "execution_count": 8,
   "metadata": {
    "collapsed": true
   },
   "outputs": [],
   "source": [
    "def email_data(data_list):\n",
    "    import os\n",
    "    \n",
    "    from sparkpost import SparkPost\n",
    "    \n",
    "    FROM_EMAIL = os.getenv('FROM_EMAIL')\n",
    "    BCC_EMAIL = os.getenv('BCC_EMAIL')\n",
    "\n",
    "    # Send email using the SparkPost api\n",
    "    sp = SparkPost() # uses environment variable named SPARKPOST_API_KEY\n",
    "\n",
    "    response = sp.transmission.send(\n",
    "            recipients=['data@globe.gov'],\n",
    "            bcc=[BCC_EMAIL],\n",
    "            text='//AA\\n{}\\n//ZZ'.format('\\n'.join(data_list)),\n",
    "            from_email=FROM_EMAIL,\n",
    "            subject='DATA'\n",
    "    )\n",
    "\n",
    "    print(response)"
   ]
  },
  {
   "cell_type": "markdown",
   "metadata": {
    "collapsed": true
   },
   "source": [
    "Finally, this command sends the email"
   ]
  },
  {
   "cell_type": "code",
   "execution_count": 35,
   "metadata": {},
   "outputs": [
    {
     "name": "stdout",
     "output_type": "stream",
     "text": [
      "{'total_rejected_recipients': 0, 'total_accepted_recipients': 2, 'id': '174720170801260674'}\n"
     ]
    }
   ],
   "source": [
    "email_data(make_data_set(d))"
   ]
  },
  {
   "cell_type": "code",
   "execution_count": null,
   "metadata": {
    "collapsed": true
   },
   "outputs": [],
   "source": []
  }
 ],
 "metadata": {
  "kernelspec": {
   "display_name": "Python 3",
   "language": "python",
   "name": "python3"
  },
  "language_info": {
   "codemirror_mode": {
    "name": "ipython",
    "version": 3
   },
   "file_extension": ".py",
   "mimetype": "text/x-python",
   "name": "python",
   "nbconvert_exporter": "python",
   "pygments_lexer": "ipython3",
   "version": "3.6.1"
  }
 },
 "nbformat": 4,
 "nbformat_minor": 2
}
